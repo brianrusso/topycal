{
 "cells": [
  {
   "cell_type": "code",
   "execution_count": 1,
   "metadata": {
    "collapsed": true
   },
   "outputs": [],
   "source": [
    "mydocs = [\n",
    "  # Opera topic\n",
    "  {\"doc_id\":1,\"text\":\"My mom drove me to the opera fifteen minutes late on Tuesday.\"},\n",
    "  {\"doc_id\":11,\"text\":\"My bandaid wasn't sticky any more so it fell off on the way to the opera.\"},\n",
    "  {\"doc_id\":5,\"text\":\"The Lexus' door slammed down on my hand and I screamed like a little baby.\"},\n",
    "  {\"doc_id\":8,\"text\":\"I was so thirsty at the opera, I couldn't wait to get a glass of wine.\"},\n",
    "  {\"doc_id\":9,\"text\":\"I found a gold coin by a Lexus in the parking lot after the opera performance today.\"},\n",
    "  {\"doc_id\":15,\"text\":\"Your mom drives a Lexus, and she is so nice she gave me a ride home today from the opera.\"},\n",
    "  # School topic\n",
    "  {\"doc_id\":2,\"text\":\"The girl wore her hair in two braids, tied with two blue bows. She lost a bow in the school playground.\"},\n",
    "  {\"doc_id\":14,\"text\":\"I was so scared to go to the Opera but my dad said he would sit with me so we went last night.\"},\n",
    "  {\"doc_id\":6,\"text\":\"My shoes are blue with yellow stripes and green stars on the front.\"},\n",
    "  {\"doc_id\":16,\"text\":\"I fell in the mud when I was walking home from school today.\"},  \n",
    "  {\"doc_id\":17,\"text\":\"This kids at school were so hungry they couldn't stop eating the tasty school cafeteria food.\"},\n",
    "  # Zoo topic  \n",
    "  {\"doc_id\":3,\"text\":\"The giraffe was so hungry he ran across the kitchen floor without even looking for humans.\"},\n",
    "  {\"doc_id\":4,\"text\":\"The hippo got stuck in the zoo's carousel and he couldn't talk anymore.\"},\n",
    "  {\"doc_id\":12,\"text\":\"The hippo had a sore throat so I gave him my bottle of water from the zoo's store and told him to keep it.\"},\n",
    "  {\"doc_id\":13,\"text\":\"The zebra was white and brown and looked very old compared to the giraffe. The school kids were curious about his health.\"},\n",
    "  {\"doc_id\":7,\"text\":\"The giraffe's cage was bent and broken and looked like a hippo had knocked it over on purpose.\"},\n",
    "  {\"doc_id\":10,\"text\":\"The chocolate chip cookies smelled so good that the hippo ate one without asking.\"}]  \n",
    "  "
   ]
  },
  {
   "cell_type": "code",
   "execution_count": 2,
   "metadata": {
    "collapsed": true
   },
   "outputs": [],
   "source": [
    "from topycal import TopycalNMF"
   ]
  },
  {
   "cell_type": "code",
   "execution_count": 3,
   "metadata": {},
   "outputs": [],
   "source": [
    "model = TopycalNMF(mydocs, num_topics=3, num_topic_words=5, content_key='text')"
   ]
  },
  {
   "cell_type": "code",
   "execution_count": 4,
   "metadata": {
    "collapsed": true
   },
   "outputs": [],
   "source": [
    "model.initialize()"
   ]
  },
  {
   "cell_type": "code",
   "execution_count": 5,
   "metadata": {},
   "outputs": [
    {
     "data": {
      "text/plain": [
       "{0: ['opera', 'today', 'lexus', 'fell', 'couldn'],\n",
       " 1: ['hippo', 'zoo', 'couldn', 'gave', 'like'],\n",
       " 2: ['school', 'blue', 'kids', 'giraffe', 'hungry']}"
      ]
     },
     "execution_count": 5,
     "metadata": {},
     "output_type": "execute_result"
    }
   ],
   "source": [
    "model.topics"
   ]
  },
  {
   "cell_type": "code",
   "execution_count": null,
   "metadata": {
    "collapsed": true
   },
   "outputs": [],
   "source": []
  },
  {
   "cell_type": "code",
   "execution_count": 6,
   "metadata": {},
   "outputs": [
    {
     "data": {
      "text/plain": [
       "{'doc_id': 8,\n",
       " 'text': \"I was so thirsty at the opera, I couldn't wait to get a glass of wine.\"}"
      ]
     },
     "execution_count": 6,
     "metadata": {},
     "output_type": "execute_result"
    }
   ],
   "source": [
    "model.docs[3]"
   ]
  },
  {
   "cell_type": "code",
   "execution_count": 7,
   "metadata": {},
   "outputs": [
    {
     "data": {
      "text/plain": [
       "(0, 0.4285221719166587)"
      ]
     },
     "execution_count": 7,
     "metadata": {},
     "output_type": "execute_result"
    }
   ],
   "source": [
    "model[3]"
   ]
  },
  {
   "cell_type": "code",
   "execution_count": 8,
   "metadata": {
    "collapsed": true
   },
   "outputs": [],
   "source": [
    "model.set_topic_names(['Night Life', 'Wild Animals', 'Schooltime'])"
   ]
  },
  {
   "cell_type": "code",
   "execution_count": 9,
   "metadata": {},
   "outputs": [
    {
     "data": {
      "text/plain": [
       "('Night Life', 0.4285221719166587)"
      ]
     },
     "execution_count": 9,
     "metadata": {},
     "output_type": "execute_result"
    }
   ],
   "source": [
    "model[3]"
   ]
  },
  {
   "cell_type": "code",
   "execution_count": 10,
   "metadata": {},
   "outputs": [
    {
     "data": {
      "text/plain": [
       "array([ 0.42852217,  0.09166855,  0.00228455])"
      ]
     },
     "execution_count": 10,
     "metadata": {},
     "output_type": "execute_result"
    }
   ],
   "source": [
    "model.doc_topic_distrib[3]"
   ]
  },
  {
   "cell_type": "code",
   "execution_count": 11,
   "metadata": {},
   "outputs": [
    {
     "data": {
      "text/plain": [
       "[(0, 0.4285221719166587), (1, 0.091668549635229787)]"
      ]
     },
     "execution_count": 11,
     "metadata": {},
     "output_type": "execute_result"
    }
   ],
   "source": [
    "model.get_topic_for_doc(3, threshold=0.05, force_topicid=True)"
   ]
  },
  {
   "cell_type": "code",
   "execution_count": 12,
   "metadata": {},
   "outputs": [
    {
     "data": {
      "text/plain": [
       "[('Night Life', 0.4285221719166587),\n",
       " ('Wild Animals', 0.091668549635229787),\n",
       " ('Schooltime', 0.0022845521247407997)]"
      ]
     },
     "execution_count": 12,
     "metadata": {},
     "output_type": "execute_result"
    }
   ],
   "source": [
    "model.get_topic_for_doc(3, threshold=0)"
   ]
  },
  {
   "cell_type": "code",
   "execution_count": 18,
   "metadata": {},
   "outputs": [],
   "source": [
    "model.set_topic_key(\"topics\")"
   ]
  },
  {
   "cell_type": "code",
   "execution_count": 19,
   "metadata": {},
   "outputs": [
    {
     "data": {
      "text/plain": [
       "{'doc_id': 8,\n",
       " 'text': \"I was so thirsty at the opera, I couldn't wait to get a glass of wine.\",\n",
       " 'topics': ('Night Life', 0.4285221719166587)}"
      ]
     },
     "execution_count": 19,
     "metadata": {},
     "output_type": "execute_result"
    }
   ],
   "source": [
    "model[3]"
   ]
  },
  {
   "cell_type": "code",
   "execution_count": 15,
   "metadata": {
    "collapsed": true
   },
   "outputs": [],
   "source": [
    "model.set_topic_key(None)"
   ]
  },
  {
   "cell_type": "code",
   "execution_count": 20,
   "metadata": {},
   "outputs": [
    {
     "ename": "Exception",
     "evalue": "Topic key conflicts with existing key in document",
     "output_type": "error",
     "traceback": [
      "\u001b[0;31m---------------------------------------------------------------------------\u001b[0m",
      "\u001b[0;31mException\u001b[0m                                 Traceback (most recent call last)",
      "\u001b[0;32m<ipython-input-20-63aeac0dc92e>\u001b[0m in \u001b[0;36m<module>\u001b[0;34m()\u001b[0m\n\u001b[0;32m----> 1\u001b[0;31m \u001b[0mmodel\u001b[0m\u001b[0;34m[\u001b[0m\u001b[0;36m3\u001b[0m\u001b[0;34m]\u001b[0m\u001b[0;34m\u001b[0m\u001b[0m\n\u001b[0m",
      "\u001b[0;32m/home/brian/topycal/topycal/base.py\u001b[0m in \u001b[0;36m__getitem__\u001b[0;34m(self, index)\u001b[0m\n\u001b[1;32m     54\u001b[0m             \u001b[0mobj\u001b[0m \u001b[0;34m=\u001b[0m \u001b[0mself\u001b[0m\u001b[0;34m.\u001b[0m\u001b[0mdocs\u001b[0m\u001b[0;34m[\u001b[0m\u001b[0mindex\u001b[0m\u001b[0;34m]\u001b[0m\u001b[0;34m\u001b[0m\u001b[0m\n\u001b[1;32m     55\u001b[0m             \u001b[0;32mif\u001b[0m \u001b[0mself\u001b[0m\u001b[0;34m.\u001b[0m\u001b[0mtopic_key\u001b[0m \u001b[0;32min\u001b[0m \u001b[0mobj\u001b[0m\u001b[0;34m:\u001b[0m\u001b[0;34m\u001b[0m\u001b[0m\n\u001b[0;32m---> 56\u001b[0;31m                 \u001b[0;32mraise\u001b[0m \u001b[0mException\u001b[0m\u001b[0;34m(\u001b[0m\u001b[0;34m\"Topic key conflicts with existing key in document\"\u001b[0m\u001b[0;34m)\u001b[0m\u001b[0;34m\u001b[0m\u001b[0m\n\u001b[0m\u001b[1;32m     57\u001b[0m             \u001b[0;32melse\u001b[0m\u001b[0;34m:\u001b[0m\u001b[0;34m\u001b[0m\u001b[0m\n\u001b[1;32m     58\u001b[0m                 \u001b[0mobj\u001b[0m\u001b[0;34m[\u001b[0m\u001b[0mself\u001b[0m\u001b[0;34m.\u001b[0m\u001b[0mtopic_key\u001b[0m\u001b[0;34m]\u001b[0m \u001b[0;34m=\u001b[0m \u001b[0mtopic_info\u001b[0m\u001b[0;34m\u001b[0m\u001b[0m\n",
      "\u001b[0;31mException\u001b[0m: Topic key conflicts with existing key in document"
     ]
    }
   ],
   "source": [
    "model[3]"
   ]
  },
  {
   "cell_type": "code",
   "execution_count": null,
   "metadata": {
    "collapsed": true
   },
   "outputs": [],
   "source": []
  }
 ],
 "metadata": {
  "kernelspec": {
   "display_name": "Python 3",
   "language": "python",
   "name": "python3"
  },
  "language_info": {
   "codemirror_mode": {
    "name": "ipython",
    "version": 3
   },
   "file_extension": ".py",
   "mimetype": "text/x-python",
   "name": "python",
   "nbconvert_exporter": "python",
   "pygments_lexer": "ipython3",
   "version": "3.5.2"
  }
 },
 "nbformat": 4,
 "nbformat_minor": 2
}
